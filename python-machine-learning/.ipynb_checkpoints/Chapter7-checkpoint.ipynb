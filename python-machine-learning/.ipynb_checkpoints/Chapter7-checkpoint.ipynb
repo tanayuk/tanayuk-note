{
 "cells": [
  {
   "cell_type": "code",
   "execution_count": 1,
   "metadata": {
    "collapsed": true
   },
   "outputs": [],
   "source": [
    "%matplotlib inline"
   ]
  },
  {
   "cell_type": "code",
   "execution_count": 2,
   "metadata": {
    "collapsed": false
   },
   "outputs": [
    {
     "data": {
      "text/plain": [
       "0.034327507019042969"
      ]
     },
     "execution_count": 2,
     "metadata": {},
     "output_type": "execute_result"
    }
   ],
   "source": [
    "from scipy.misc import comb\n",
    "import math\n",
    "def ensemble_error(n_classifier, error):\n",
    "    k_start = int(math.ceil(n_classifier/2.0))\n",
    "    probs = [comb(n_classifier, k) * \n",
    "             error**k * (1-error)**(n_classifier - k) \n",
    "             for k in range(k_start, n_classifier + 1)]\n",
    "    return sum(probs)\n",
    "ensemble_error(n_classifier=11, error = 0.25)"
   ]
  },
  {
   "cell_type": "code",
   "execution_count": 3,
   "metadata": {
    "collapsed": false
   },
   "outputs": [
    {
     "data": {
      "image/png": "[encoded data removed]",
      "text/plain": [
       "<matplotlib.figure.Figure at 0x10ac6d518>"
      ]
     },
     "metadata": {},
     "output_type": "display_data"
    }
   ],
   "source": [
    "import numpy as np\n",
    "error_range = np.arange(0.0, 1.01, 0.01)\n",
    "ens_errors = [ensemble_error(n_classifier=11, error=error) for error in error_range]\n",
    "\n",
    "import matplotlib.pyplot as plt\n",
    "plt.plot(error_range, ens_errors,\n",
    "        label='Ensemble error', linewidth=2)\n",
    "plt.plot(error_range, error_range,\n",
    "        linestyle='--', label='Base error', linewidth=2)\n",
    "plt.xlabel('Base error')\n",
    "plt.ylabel('Base/Ensemble error')\n",
    "plt.legend(loc='upper left')\n",
    "plt.grid()\n",
    "plt.show()"
   ]
  },
  {
   "cell_type": "code",
   "execution_count": 4,
   "metadata": {
    "collapsed": false
   },
   "outputs": [
    {
     "data": {
      "text/plain": [
       "1"
      ]
     },
     "execution_count": 4,
     "metadata": {},
     "output_type": "execute_result"
    }
   ],
   "source": [
    "import numpy as np\n",
    "np.argmax(np.bincount([0,0,1], weights=[0.2,0.2,0.6]))"
   ]
  },
  {
   "cell_type": "code",
   "execution_count": 5,
   "metadata": {
    "collapsed": false
   },
   "outputs": [
    {
     "data": {
      "text/plain": [
       "array([ 0.58,  0.42])"
      ]
     },
     "execution_count": 5,
     "metadata": {},
     "output_type": "execute_result"
    }
   ],
   "source": [
    "ex=np.array([[0.9,0.1],[0.8,0.2],[0.4,0.6]])\n",
    "p = np.average(ex, axis=0, weights=[0.2,0.2,0.6])\n",
    "p = np.average(ex, axis=0,weights=[0.2,0.2,0.6])\n",
    "p"
   ]
  },
  {
   "cell_type": "code",
   "execution_count": 6,
   "metadata": {
    "collapsed": false
   },
   "outputs": [
    {
     "data": {
      "text/plain": [
       "0"
      ]
     },
     "execution_count": 6,
     "metadata": {},
     "output_type": "execute_result"
    }
   ],
   "source": [
    "np.argmax(p)"
   ]
  },
  {
   "cell_type": "code",
   "execution_count": 7,
   "metadata": {
    "collapsed": false
   },
   "outputs": [],
   "source": [
    "from sklearn.base import BaseEstimator\n",
    "from sklearn.base import ClassifierMixin\n",
    "from sklearn.preprocessing import LabelEncoder\n",
    "from sklearn.externals import six\n",
    "from sklearn.base import clone\n",
    "from sklearn.pipeline import _name_estimators\n",
    "import numpy as np\n",
    "import operator\n",
    "class MajorityVoteClassifier(BaseEstimator, ClassifierMixin):\n",
    "    \"\"\" 多数決アンサンブル分類器\n",
    "    パラメータ\n",
    "    ---------------\n",
    "    classifiers : array-like, shape = [n_classifiers]\n",
    "        アンサンブルの様々な分類器\n",
    "    vote : str, {'classlabel', 'probability'} (default: 'classlabel')\n",
    "        'classlabel'の場合、クラスラベルの予測はクラスラベルのargmaxに基づく\n",
    "        'probability'の場合、クラスラベルの予測はクラスの所属確率のargmaxに基づく（分類器が調整済みであることが推奨される）\n",
    "    weights : array-like, shape = [n_classifier] (optiona, default=None)\n",
    "        `int`または`float`型の値のリストが提供された場合、\n",
    "        分類器は重要度で重み付けされる\n",
    "        `weights=None`の場合は均一な重みを使用\n",
    "    \"\"\"\n",
    "    def __init__(self, classifiers, vote='classlabel', weights=None):\n",
    "        self.classifiers = classifiers\n",
    "        self.named_classifiers = {key: value for key,\n",
    "                                 value in _name_estimators(classifiers)}\n",
    "        self.vote = vote\n",
    "        self.weights = weights\n",
    "    def fit(self,X,y):\n",
    "        \"\"\" 分類器を学習させる\n",
    "        パラメータ\n",
    "        -----------------\n",
    "        X: {array-like, sparse matrix},shape=[n_samples, n_features]\n",
    "            トレーニングサンプルからなる行列\n",
    "        y: array-like, shape=[n_samples]    \n",
    "            クラスラベルのベクトル\n",
    "        戻り値\n",
    "        ------------------\n",
    "        self:object\n",
    "        \"\"\"\n",
    "        # LabelEncoderを使ってクラスラベルが0から始まるようにエンコードする\n",
    "        # self.predictのnp.argmax呼び出しで重要となる\n",
    "        self.lablenc_ = LabelEncoder()\n",
    "        self.lablenc_.fit(y)\n",
    "        self.classes_ = self.lablenc_.classes_\n",
    "        self.classifiers_ = []\n",
    "        for clf in self.classifiers:\n",
    "            fitted_clf = clone(clf).fit(X, self.lablenc_.transform(y))\n",
    "            self.classifiers_.append(fitted_clf)\n",
    "        return self\n",
    "    def predict(self, X):\n",
    "        \"\"\"Xのクラスラベルを予測する\n",
    "        パラメータ\n",
    "        -------------\n",
    "        X: {array-like, sparse matrix}, shape = [n_samples, n_features]\n",
    "            トレーニングサンプルからなる行列\n",
    "        戻り値\n",
    "        -------------\n",
    "        maj_vote : array-like, shape = [n_samples]\n",
    "            予測されたクラスラベル\n",
    "        \"\"\"\n",
    "        if self.vote == 'probability':\n",
    "            maj_vote = np.argmax(self.predict_proba(X), axis=1)\n",
    "        else: # 'classlabel'での多数決\n",
    "            # clf.predict呼び出しの結果を収集\n",
    "            predictions = np.asarray([clf.predict(X) for clf in self.classifiers_]).T\n",
    "            # 各サンプルのクラス確率に重みをかけて足し合わせた値が最大となる\n",
    "            #　列番号を配列として返す\n",
    "            maj_vote = np.apply_along_axis(lambda x: np.argmax(np.bincout(x, weights=self.weights)), axis=1,arr=predictions)\n",
    "            # 各サンプルに確率の最大値を与えるクラスラベルを抽出\n",
    "            maj_vote = self.lablenc_.inverse_transform(maj_vote)\n",
    "            return maj_vote\n",
    "    def predict_proba(self, X):\n",
    "        \"\"\" Xのクラス確率を予測する\n",
    "        パラメータ\n",
    "        ------------\n",
    "        X: {array-like, sparse matrix}, shape=[n_samples, n_features]\n",
    "            トレーニングベクトル: n_samplesはサンプルの個数、\n",
    "            n_featuresは特徴量の個数\n",
    "        戻り値\n",
    "        ------------\n",
    "        arg_proba : array-like, shape = [n_samples, n_classes]\n",
    "            各サンプルに対する各クラスで重み付けた平均確率\n",
    "        \"\"\"\n",
    "        probas = np.asarray([clf.predict_proba(X) for clf in self.classifiers_])\n",
    "        avg_proba = np.average(probas, axis = 0, weights = self.weights)\n",
    "        return avg_proba\n",
    "    def get_params(self, deep=True):\n",
    "        \"\"\" GridSearchの実行時に分類器のパラメータ名を取得　\"\"\"\n",
    "        if not deep:\n",
    "            return super(MajorityVoteClassifier, self).get_params(deep=False)\n",
    "        else:\n",
    "            # キーを”分類器の名前__パラメータ名”、\n",
    "            # バリューをパラメータの値とするディクショナリを生成\n",
    "            out = self.named_classifiers.copy()\n",
    "            for name, step in six.iteritems(self.named_classifiers):\n",
    "                for key, value in six.itertimes(step.get_params(dee=True)):\n",
    "                    out['%s__%s' % (name, key)] = value\n",
    "            return out"
   ]
  },
  {
   "cell_type": "code",
   "execution_count": 8,
   "metadata": {
    "collapsed": true
   },
   "outputs": [],
   "source": [
    "from sklearn import datasets\n",
    "from sklearn.cross_validation import train_test_split\n",
    "from sklearn.preprocessing import StandardScaler\n",
    "from sklearn.preprocessing import LabelEncoder\n",
    "iris = datasets.load_iris()\n",
    "X, y = iris.data[50:, [1,2]], iris.target[50:]\n",
    "le = LabelEncoder()\n",
    "y = le.fit_transform(y)"
   ]
  },
  {
   "cell_type": "code",
   "execution_count": 9,
   "metadata": {
    "collapsed": true
   },
   "outputs": [],
   "source": [
    "X_train, X_test, y_train, y_test = train_test_split(X, y, test_size=0.5, random_state=1)"
   ]
  },
  {
   "cell_type": "code",
   "execution_count": 10,
   "metadata": {
    "collapsed": false
   },
   "outputs": [
    {
     "name": "stdout",
     "output_type": "stream",
     "text": [
      "10-fold corss validation:\n",
      "\n",
      "ROC AUC: 0.92 (+/- 0.20) [Logistic Regression]\n",
      "ROC AUC: 0.92 (+/- 0.15) [Decision Tree]\n",
      "ROC AUC: 0.93 (+/- 0.10) [KNN]\n"
     ]
    }
   ],
   "source": [
    "from sklearn.cross_validation import cross_val_score\n",
    "from sklearn.linear_model import LogisticRegression\n",
    "from sklearn.tree import DecisionTreeClassifier\n",
    "from sklearn.neighbors import KNeighborsClassifier\n",
    "from sklearn.pipeline import Pipeline\n",
    "import numpy as np\n",
    "clf1 = LogisticRegression(penalty='l2',\n",
    "                         C=0.001,\n",
    "                         random_state=0)\n",
    "clf2 = DecisionTreeClassifier(max_depth=1,\n",
    "                             criterion='entropy',\n",
    "                             random_state=0)\n",
    "clf3 = KNeighborsClassifier(n_neighbors=1,\n",
    "                           p=2,\n",
    "                           metric='minkowski')\n",
    "pipe1 = Pipeline([['sc', StandardScaler()],['clf',clf1]])\n",
    "pipe3 = Pipeline([['sc', StandardScaler()],['clf',clf3]])\n",
    "clf_labels = ['Logistic Regression', 'Decision Tree', 'KNN']\n",
    "print('10-fold corss validation:\\n')\n",
    "for clf, label in zip([pipe1, clf2, pipe3], clf_labels):\n",
    "    scores = cross_val_score(estimator=clf, X=X_train, y=y_train, cv=10, scoring='roc_auc')\n",
    "    print(\"ROC AUC: %0.2f (+/- %0.2f) [%s]\" % (scores.mean(), scores.std(), label))"
   ]
  },
  {
   "cell_type": "code",
   "execution_count": 11,
   "metadata": {
    "collapsed": false
   },
   "outputs": [
    {
     "name": "stdout",
     "output_type": "stream",
     "text": [
      "Accuracy: 0.92 (+/- 0.20) [Logistic Regression]\n",
      "Accuracy: 0.92 (+/- 0.15) [Decision Tree]\n",
      "Accuracy: 0.93 (+/- 0.10) [KNN]\n",
      "Accuracy: 0.97 (+/- 0.10) [Majority Voting]\n"
     ]
    }
   ],
   "source": [
    "mv_clf = MajorityVoteClassifier(classifiers=[pipe1, clf2, pipe3])\n",
    "clf_labels += ['Majority Voting']\n",
    "all_clf = [pipe1, clf2, pipe3, mv_clf]\n",
    "for clf, label in zip(all_clf, clf_labels):\n",
    "    scores = cross_val_score(estimator=clf,\n",
    "                            X=X_train,\n",
    "                            y=y_train,\n",
    "                            cv=10,\n",
    "                            scoring='roc_auc')\n",
    "    print(\"Accuracy: %0.2f (+/- %0.2f) [%s]\" % (scores.mean(), scores.std(),label))"
   ]
  },
  {
   "cell_type": "code",
   "execution_count": 12,
   "metadata": {
    "collapsed": false
   },
   "outputs": [
    {
     "data": {
      "image/png": "[encoded data removed]",
      "text/plain": [
       "<matplotlib.figure.Figure at 0x10e899400>"
      ]
     },
     "metadata": {},
     "output_type": "display_data"
    }
   ],
   "source": [
    "from sklearn.metrics import roc_curve\n",
    "from sklearn.metrics import auc\n",
    "colors = ['black', 'orange','blue','green']\n",
    "linestyles = [':','--','-.','-']\n",
    "for clf, label, clr, ls in zip(all_clf, clf_labels, colors, linestyles):\n",
    "    # 陽性クラスのラベルは１であることが前提\n",
    "    y_pred = clf.fit(X_train, y_train).predict_proba(X_test)[:, 1]\n",
    "    fpr, tpr, thresholds = roc_curve(y_true=y_test, y_score=y_pred)\n",
    "    roc_auc = auc(x=fpr, y=tpr)\n",
    "    plt.plot(fpr, tpr, color = clr,linestyle=ls, label='%s (auc = %0.2f)' % (label, roc_auc))\n",
    "    \n",
    "plt.legend(loc='lower right')\n",
    "plt.plot([0,1],[0,1], linestyle='--', color = 'gray', linewidth=2)\n",
    "plt.xlim([-0.1,1.1])\n",
    "plt.ylim([-0.1, 1.1])\n",
    "plt.grid()\n",
    "plt.xlabel('False Positive Rate')\n",
    "plt.ylabel('True Positive Rate')\n",
    "plt.show()"
   ]
  },
  {
   "cell_type": "code",
   "execution_count": null,
   "metadata": {
    "collapsed": true
   },
   "outputs": [],
   "source": [
    "sc = StandardScaler()\n",
    "X_train_std = sc.fit_transform(X_train)\n",
    "from itertools import product\n",
    "# 決定領域を描画する最小値、最大値を生成\n",
    "x_min = X_train_std[:,0].min() -1\n",
    "x_max = X_train_std[:,0].max() +1\n",
    "y_min = X_train_std[:,1].min() -1\n",
    "y_max = X_train_std[:,1].max() +1\n",
    "# グリッドポイントを生成\n",
    "xx, yy = np.meshgrid(np.arange(x_min, x_max, 0.1),\n",
    "                    np.arange(y_min, y_max, 0.1))\n",
    "# 描画領域を2行2列に分割\n",
    "f, axarr = plt.subplots(nrows=2, ncols=2, sharex='col',sharey='row',figsize=(7,5))\n",
    "# 決定領域のプロット、青や赤の散布図の作成などを実行\n",
    "# 変数idxは各分類器を描画する行と列の位置を表すタプる\n",
    "for idx, clf, tt in zip(product([0,1],[0,1]), all_clf, clf_labels):\n",
    "    clf.fit(X_train_std, y_train)\n",
    "    Z = clf.predict(np.c_[xx.ravel(), yy.ravel()])\n",
    "    Z=Z.reshape(xx.shape)\n",
    "    axarr[idx[0], idx[1]].contourf(xx,yy,Z,alpha=0.3)"
   ]
  }
 ],
 "metadata": {
  "kernelspec": {
   "display_name": "Python [Root]",
   "language": "python",
   "name": "Python [Root]"
  },
  "language_info": {
   "codemirror_mode": {
    "name": "ipython",
    "version": 3
   },
   "file_extension": ".py",
   "mimetype": "text/x-python",
   "name": "python",
   "nbconvert_exporter": "python",
   "pygments_lexer": "ipython3",
   "version": "3.5.2"
  }
 },
 "nbformat": 4,
 "nbformat_minor": 0
}
